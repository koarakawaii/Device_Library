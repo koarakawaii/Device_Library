{
 "cells": [
  {
   "cell_type": "markdown",
   "metadata": {},
   "source": [
    "# Tips:\n",
    "### To use this app:<br>\n",
    "1. The address sending the mail must enable the IMAP, see [here](https://support.google.com/mail/answer/7126229?p=BadCredentials&visit_id=637320813303855593-717697157&rd=2#cantsignin). <br>\n",
    "2. Must allow less secure apps to ON, go [here](https://myaccount.google.com/lesssecureapps).<br>\n",
    "\n",
    "### References:\n",
    "[ref. 1](http://wiki.alarmchang.com/index.php?title=Mail_%E7%99%BC%E4%BF%A1_smtp_%E9%9C%80%E8%A6%81%E8%AA%8D%E8%AD%89%EF%BC%8C%E4%B8%94%E9%83%B5%E4%BB%B6%E9%A1%AF%E7%A4%BA_To,_CC,_BCC)<br>\n",
    "[ref. 2](https://medium.com/jeasee%E9%9A%A8%E7%AD%86/python-email%E5%AF%84%E4%BF%A1-ba2b5eb05d6b)<br>\n",
    "[ref. 3](https://realpython.com/python-send-email/)<br>\n",
    "[ref. 4](https://www.itread01.com/p/457779.html)"
   ]
  },
  {
   "cell_type": "markdown",
   "metadata": {},
   "source": [
    "### Import packages."
   ]
  },
  {
   "cell_type": "code",
   "execution_count": 3,
   "metadata": {},
   "outputs": [],
   "source": [
    "import datetime, re, smtplib, requests, os, shutil\n",
    "from email.mime.text import MIMEText\n",
    "from email.mime.multipart import MIMEMultipart"
   ]
  },
  {
   "cell_type": "markdown",
   "metadata": {},
   "source": [
    "### Function used to download the file that will be attached."
   ]
  },
  {
   "cell_type": "code",
   "execution_count": 4,
   "metadata": {},
   "outputs": [],
   "source": [
    "def APPENDER(message, item_name):\n",
    "    list_of_item = []\n",
    "    counter = 0 \n",
    "    while True:\n",
    "        print(\"%s # %d\"%(item_name, counter+1))\n",
    "        item = input(message)\n",
    "        if item == 'q':\n",
    "            break\n",
    "        elif item != '':\n",
    "            list_of_item.append(item)\n",
    "            counter += 1\n",
    "    print(\"Total %d %s(s) selected.\"%(counter, item_name))\n",
    "    return list_of_item\n",
    "\n",
    "def GET_FILES(file_name, path, url='', original_file_path=''):\n",
    "    filecontent = []\n",
    "    if url!='':\n",
    "        for index, link in enumerate(url):\n",
    "            r = requests.get(url[index], allow_redirects=True)\n",
    "            with open('%s/%s'%(path,file_name[index]), 'wb') as f:\n",
    "                f.write(r.content)\n",
    "                f.close()\n",
    "            with open(\"%s/%s\"%(path,file_name[index]), \"rb\") as f:\n",
    "                filecontent.append(f.read())\n",
    "                f.close()\n",
    "    elif original_file_path!='':\n",
    "        for index, file_path in enumerate(original_file_path):\n",
    "#             shutil.copy2(file_path, path+'/'+file_name[index])\n",
    "#         for file in os.listdir('%s'%path):\n",
    "#             if 'pdf' in file:\n",
    "            with open(file_path, \"rb\") as f:\n",
    "                filecontent.append(f.read())\n",
    "                f.close()\n",
    "    else:\n",
    "        raise RuntimeError(\"No url and no file path! No file to process!\")\n",
    "    return filecontent\n",
    "\n",
    "def DO_ATTACHING():\n",
    "    url, original_file_path, file_name = '', '', ''\n",
    "    folder_name = 'Test_Files'   # defaulted, you can change this of course\n",
    "    path = './%s'%folder_name\n",
    "    print(\"============================\\nNow attach some files:\")\n",
    "    while True:\n",
    "        message = input(\"Download via URL or from existing files? (u/f)\")\n",
    "        if message == 'u':\n",
    "            url = APPENDER(message=\"Please enter URL(s), or use \\\"q\\\" to quit.\", item_name=\"URL\")\n",
    "            print(\"============================\\nNow name the attachment(s):\")\n",
    "            file_name = APPENDER(message=\"Please enter file name(s), or use \\\"q\\\" to quit.\", item_name=\"File name\")\n",
    "            if len(url) == len(file_name):\n",
    "                print(\"Making temporarily folder (%s) at path (./) to save the attachments...\"%(folder_name))\n",
    "                try:\n",
    "                    os.mkdir(path)\n",
    "                except:\n",
    "                    print('Folder already exits!\\n')\n",
    "            else:\n",
    "                raise RuntimeError(\"Number of URL(s) does not match number of file names!\")\n",
    "            break\n",
    "        elif message == 'f':\n",
    "            original_file_path = APPENDER(message=\"Please enter the existing file path(s), or use \\\"q\\\" to quit.\", item_name=\"Path\")\n",
    "            print(\"============================\\nNow name the attachment(s):\")\n",
    "            file_name = APPENDER(message=\"Please enter file name(s), or use \\\"q\\\" to quit.\", item_name=\"File name\")\n",
    "            break\n",
    "        else:\n",
    "            print(\"*********************Please enter \\\"u\\\" or \\\"f\\\"!*********************\")\n",
    "\n",
    "    attachment = []\n",
    "    print(\"Start attaching attachment(s)...\")\n",
    "    for index, filecontent in enumerate(GET_FILES(file_name, path, url, original_file_path)):\n",
    "        file = MIMEText(filecontent, \"base64\", \"utf-8\")\n",
    "        file[\"Content-Type\"]=\"application/octet-stream\"   \n",
    "        file[\"Content-Disposition\"]='attachment; filename=%s'%file_name[index]\n",
    "        attachment.append(file)\n",
    "    print(\"Attaching Ends!\")\n",
    "    return attachment"
   ]
  },
  {
   "cell_type": "markdown",
   "metadata": {},
   "source": [
    "### Calculate the latest meeting date automatically."
   ]
  },
  {
   "cell_type": "code",
   "execution_count": 5,
   "metadata": {},
   "outputs": [
    {
     "name": "stdout",
     "output_type": "stream",
     "text": [
      "Meeting date is on 8/28 , do you confirm? (y/n)y\n",
      "Confirmed.\n"
     ]
    }
   ],
   "source": [
    "today_weekday = datetime.datetime.now().weekday()\n",
    "hour = datetime.datetime.now().hour\n",
    "\n",
    "if today_weekday>4 or (today_weekday==4 and hour>=12):\n",
    "    how_many_day = 4 - today_weekday + 7\n",
    "else:\n",
    "    how_many_day = 4- today_weekday\n",
    "    \n",
    "meeting_date = datetime.datetime.fromtimestamp(how_many_day*86400 + datetime.datetime.now().timestamp()).date()\n",
    "\n",
    "if meeting_date.weekday()!=4:\n",
    "    print(\"Automatic meeting date calculation wrong! Please enter the meeting date manually!\")\n",
    "    month = input(\"Month is:\")\n",
    "    day = input(\"Day is:\")\n",
    "else:\n",
    "    month = meeting_date.month; day = meeting_date.day\n",
    "    \n",
    "    while True:\n",
    "        message = input(\"Meeting date is on %d/%d , do you confirm? (y/n)\"%(month, day))\n",
    "        if message == 'y':\n",
    "            print(\"Confirmed.\")\n",
    "            break\n",
    "        elif message == 'n':\n",
    "            print(\"Enter the date manually...\")\n",
    "            month = input(\"Month is:\")\n",
    "            day = input(\"Day is:\")\n",
    "            break\n",
    "        else:\n",
    "            print(\"*********************Please enter \\\"y\\\" or \\\"n\\\"!*********************\")"
   ]
  },
  {
   "cell_type": "markdown",
   "metadata": {},
   "source": [
    "### Create the email list and assign your own email address, which will be used to cc."
   ]
  },
  {
   "cell_type": "code",
   "execution_count": 11,
   "metadata": {},
   "outputs": [
    {
     "name": "stdout",
     "output_type": "stream",
     "text": [
      "Enter your email address.aggag\n",
      "Enter your english name.21313\n"
     ]
    }
   ],
   "source": [
    "email_list = 'ABC <ABC@gmail.com>\\\n",
    "              BCD <BCD@gmail.com>\\\n",
    "              CDE <CDE@gmail.com>\\\n",
    "              DEF <DEF@gmail.com>\\\n",
    "              EFG <EFG@gmail.com>'\n",
    "\n",
    "email_list = (re.sub('\\>[^\\<]*','',email_list)).split('<')[1:] #recipients' address\n",
    "################################################################################\n",
    "# name_lsit = re.sub('\\s','',(re.sub('\\<[^\\>]*','',email_list))).split('>')[:-1]\n",
    "# email_name_dict = dict(zip(email_list,name_lsit))\n",
    "#my_name = email_name_dict[my_addr]\n",
    "################################################################################\n",
    "\n",
    "my_addr = input('Enter your email address.')\n",
    "my_name = input('Enter your english name.')\n",
    "\n",
    "from_addr = 'XYZ@gmail.com'  # The address where email will be sent from\n",
    "# msg_text = 'Dear all\\nThe paper attached is to be introduced on the coming Friday (%d/%d). Thank you!\\n\\nSincerely,\\n%s'\\\n",
    "#            %(month, day, my_name)    # defaulted, you can change this of course\n",
    "msg_html = \"\"\"\n",
    "            <html>\n",
    "            <body>\n",
    "            <strong>Main Text:</strong><br>\n",
    "            <blockquote>Dear all,</blockquote>\n",
    "            <blockquote>The paper attached is to be introduced on the coming Friday (%d/%d). Thank you!</blockquote>\n",
    "            <blockquote>Sincerely,</blockquote>\n",
    "            <blockquote>%s</blockquote>\n",
    "            <br>\n",
    "            <strong>P.S.</strong><br>\n",
    "            <blockquote>This is a mail send auto-matically by the code  <a href=\"https://this_is_a_url\">here</a>.</blockquote>\n",
    "            <blockquote>The original purpose is to generate the meeting-email by code; however it is also possible to apply it on Triton system, say sending email by itself if the measurement has ended, etc...</blockquote>\n",
    "            <blockquote>You are welcome to use or imporve the code if you are interested in it.</blockquote>\n",
    "            </body>\n",
    "            </html>\n",
    "            \"\"\"%(month, day, my_name)\n",
    "### This is for test. If you want to use this app, comment this out."
   ]
  },
  {
   "cell_type": "markdown",
   "metadata": {},
   "source": [
    "### Attach the paper(s), either by url or by assigning the path. Must make a new directory (defaulted as 'Test_Files' here) to cache the files (might need to enalbe Pulse Secure for downloading due to IP issue)."
   ]
  },
  {
   "cell_type": "code",
   "execution_count": 9,
   "metadata": {},
   "outputs": [
    {
     "name": "stdout",
     "output_type": "stream",
     "text": [
      "Is there any file you want to attach? (y/n)n\n"
     ]
    }
   ],
   "source": [
    "while True:\n",
    "    message = input(\"Is there any file you want to attach? (y/n)\")\n",
    "    if message == 'y':\n",
    "        attachment = DO_ATTACHING()\n",
    "        break\n",
    "    elif message == 'n':\n",
    "        attachment = []\n",
    "        break\n",
    "    else:\n",
    "        print(\"*********************Please enter \\\"y\\\" or \\\"n\\\"!*********************\")"
   ]
  },
  {
   "cell_type": "markdown",
   "metadata": {},
   "source": [
    "### Combine the body text with the attached files."
   ]
  },
  {
   "cell_type": "code",
   "execution_count": 10,
   "metadata": {},
   "outputs": [],
   "source": [
    "# body = MIMEText(msg_text, 'plain', 'utf8')\n",
    "body = MIMEText(msg_html, 'html', 'utf8')\n",
    "# body.set_charset(\"utf-8\")\n",
    "\n",
    "msg = MIMEMultipart()\n",
    "msg[\"Subject\"] = \"Group Meeting on %d/%d\"%(month,day) #Subject\n",
    "msg[\"From\"] = from_addr # sending address\n",
    "msg[\"To\"] = ','.join(email_list) # recipients' address\n",
    "msg[\"Cc\"] = my_addr # cc\n",
    "msg.attach(body)\n",
    "\n",
    "if attachment != []:\n",
    "    for file in attachment:\n",
    "        msg.attach(file)"
   ]
  },
  {
   "cell_type": "code",
   "execution_count": 44,
   "metadata": {},
   "outputs": [
    {
     "name": "stdout",
     "output_type": "stream",
     "text": [
      "Email sent successfully!\n"
     ]
    }
   ],
   "source": [
    "smtp = smtplib.SMTP('smtp.gmail.com',587)\n",
    "smtp.ehlo()\n",
    "smtp.starttls()\n",
    "smtp.login('semi105a@phys.ntu.edu.tw',password='semi105ag')\n",
    "\n",
    "status = smtp.sendmail(from_addr, email_list, msg.as_string())\n",
    "\n",
    "if status == {}:\n",
    "    print(\"Email sent successfully!\")\n",
    "else:\n",
    "    print(\"Email-sending failed!\")\n",
    "# smtp.quit()"
   ]
  },
  {
   "cell_type": "code",
   "execution_count": null,
   "metadata": {},
   "outputs": [],
   "source": []
  }
 ],
 "metadata": {
  "kernelspec": {
   "display_name": "Python 3",
   "language": "python",
   "name": "python3"
  },
  "language_info": {
   "codemirror_mode": {
    "name": "ipython",
    "version": 3
   },
   "file_extension": ".py",
   "mimetype": "text/x-python",
   "name": "python",
   "nbconvert_exporter": "python",
   "pygments_lexer": "ipython3",
   "version": "3.7.3"
  }
 },
 "nbformat": 4,
 "nbformat_minor": 4
}
