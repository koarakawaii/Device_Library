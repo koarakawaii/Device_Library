{
 "cells": [
  {
   "cell_type": "code",
   "execution_count": 1,
   "metadata": {},
   "outputs": [],
   "source": [
    "import os, importlib, time\n",
    "import numpy as np"
   ]
  },
  {
   "cell_type": "code",
   "execution_count": 2,
   "metadata": {},
   "outputs": [],
   "source": [
    "os.chdir(\"C:/Users/User/Lab_Equipments_Control/Device_Library\")"
   ]
  },
  {
   "cell_type": "code",
   "execution_count": 3,
   "metadata": {},
   "outputs": [],
   "source": [
    "#cd C:\\Users\\User\\Lab_Equipments_Control\\Device_Library"
   ]
  },
  {
   "cell_type": "code",
   "execution_count": 4,
   "metadata": {},
   "outputs": [],
   "source": [
    "from my_K236 import my_K236\n",
    "from my_SR830 import my_SR830\n",
    "from my_K213 import my_K213\n",
    "import device_query"
   ]
  },
  {
   "cell_type": "code",
   "execution_count": 5,
   "metadata": {},
   "outputs": [
    {
     "name": "stdout",
     "output_type": "stream",
     "text": [
      "()\n"
     ]
    }
   ],
   "source": [
    "rm = device_query.GPIB_QUERY()"
   ]
  },
  {
   "cell_type": "code",
   "execution_count": 5,
   "metadata": {},
   "outputs": [
    {
     "ename": "VisaIOError",
     "evalue": "VI_ERROR_INTF_NUM_NCONFIG (-1073807195): The interface type is valid but the specified interface number is not configured.",
     "output_type": "error",
     "traceback": [
      "\u001b[1;31m---------------------------------------------------------------------------\u001b[0m",
      "\u001b[1;31mVisaIOError\u001b[0m                               Traceback (most recent call last)",
      "\u001b[1;32m<ipython-input-5-05a550eb99a7>\u001b[0m in \u001b[0;36m<module>\u001b[1;34m\u001b[0m\n\u001b[0;32m      2\u001b[0m \u001b[0mSR830_GPIB_Addr\u001b[0m \u001b[1;33m=\u001b[0m \u001b[1;36m2\u001b[0m\u001b[1;33m\u001b[0m\u001b[1;33m\u001b[0m\u001b[0m\n\u001b[0;32m      3\u001b[0m \u001b[1;31m#keithley = rm.open_resource(f'GPIB0::{Keithley236_GPIB_Addr}::INSTR')\u001b[0m\u001b[1;33m\u001b[0m\u001b[1;33m\u001b[0m\u001b[1;33m\u001b[0m\u001b[0m\n\u001b[1;32m----> 4\u001b[1;33m \u001b[0mK236\u001b[0m \u001b[1;33m=\u001b[0m \u001b[0mmy_K236\u001b[0m\u001b[1;33m.\u001b[0m\u001b[0mMY_KEITHLEY236\u001b[0m\u001b[1;33m(\u001b[0m\u001b[0mKeithley236_GPIB_Addr\u001b[0m\u001b[1;33m,\u001b[0m \u001b[0mSM\u001b[0m \u001b[1;33m=\u001b[0m \u001b[1;34m'SVMI'\u001b[0m\u001b[1;33m,\u001b[0m \u001b[0mcompliance\u001b[0m\u001b[1;33m=\u001b[0m\u001b[1;36m1e-3\u001b[0m\u001b[1;33m)\u001b[0m\u001b[1;33m\u001b[0m\u001b[1;33m\u001b[0m\u001b[0m\n\u001b[0m\u001b[0;32m      5\u001b[0m \u001b[0msrs\u001b[0m \u001b[1;33m=\u001b[0m \u001b[0mmy_SR830\u001b[0m\u001b[1;33m.\u001b[0m\u001b[0mMY_SR830\u001b[0m\u001b[1;33m(\u001b[0m\u001b[0mSR830_GPIB_Addr\u001b[0m\u001b[1;33m)\u001b[0m\u001b[1;33m\u001b[0m\u001b[1;33m\u001b[0m\u001b[0m\n",
      "\u001b[1;32m~\\Lab_Equipments_Control\\Device_Library\\my_K236\\my_K236.py\u001b[0m in \u001b[0;36m__init__\u001b[1;34m(self, GPIB_Addr, SM, compliance, range_m)\u001b[0m\n\u001b[0;32m      9\u001b[0m     \u001b[1;32mdef\u001b[0m \u001b[0m__init__\u001b[0m\u001b[1;33m(\u001b[0m\u001b[0mself\u001b[0m\u001b[1;33m,\u001b[0m \u001b[0mGPIB_Addr\u001b[0m\u001b[1;33m,\u001b[0m \u001b[0mSM\u001b[0m\u001b[1;33m,\u001b[0m \u001b[0mcompliance\u001b[0m\u001b[1;33m,\u001b[0m \u001b[0mrange_m\u001b[0m \u001b[1;33m=\u001b[0m \u001b[1;36m0\u001b[0m\u001b[1;33m)\u001b[0m\u001b[1;33m:\u001b[0m\u001b[1;33m\u001b[0m\u001b[1;33m\u001b[0m\u001b[0m\n\u001b[0;32m     10\u001b[0m         \u001b[0mrm\u001b[0m \u001b[1;33m=\u001b[0m \u001b[0mvisa\u001b[0m\u001b[1;33m.\u001b[0m\u001b[0mResourceManager\u001b[0m\u001b[1;33m(\u001b[0m\u001b[1;33m)\u001b[0m\u001b[1;33m\u001b[0m\u001b[1;33m\u001b[0m\u001b[0m\n\u001b[1;32m---> 11\u001b[1;33m         \u001b[0mself\u001b[0m\u001b[1;33m.\u001b[0m\u001b[0mmachine\u001b[0m \u001b[1;33m=\u001b[0m \u001b[0mrm\u001b[0m\u001b[1;33m.\u001b[0m\u001b[0mopen_resource\u001b[0m\u001b[1;33m(\u001b[0m\u001b[1;34mf'GPIB0::{GPIB_Addr}::INSTR'\u001b[0m\u001b[1;33m)\u001b[0m\u001b[1;33m\u001b[0m\u001b[1;33m\u001b[0m\u001b[0m\n\u001b[0m\u001b[0;32m     12\u001b[0m         \u001b[0mself\u001b[0m\u001b[1;33m.\u001b[0m\u001b[0mcompliance\u001b[0m \u001b[1;33m=\u001b[0m \u001b[0mcompliance\u001b[0m\u001b[1;33m\u001b[0m\u001b[1;33m\u001b[0m\u001b[0m\n\u001b[0;32m     13\u001b[0m         \u001b[1;32mif\u001b[0m \u001b[0mSM\u001b[0m\u001b[1;33m!=\u001b[0m\u001b[1;34m'SIMV'\u001b[0m \u001b[1;32mand\u001b[0m \u001b[0mSM\u001b[0m\u001b[1;33m!=\u001b[0m\u001b[1;34m'SVMI'\u001b[0m\u001b[1;33m:\u001b[0m\u001b[1;33m\u001b[0m\u001b[1;33m\u001b[0m\u001b[0m\n",
      "\u001b[1;32m~\\Anaconda3\\lib\\site-packages\\pyvisa\\highlevel.py\u001b[0m in \u001b[0;36mopen_resource\u001b[1;34m(self, resource_name, access_mode, open_timeout, resource_pyclass, **kwargs)\u001b[0m\n\u001b[0;32m   1748\u001b[0m \u001b[1;33m\u001b[0m\u001b[0m\n\u001b[0;32m   1749\u001b[0m         \u001b[1;32mif\u001b[0m \u001b[0mresource_pyclass\u001b[0m \u001b[1;32mis\u001b[0m \u001b[1;32mNone\u001b[0m\u001b[1;33m:\u001b[0m\u001b[1;33m\u001b[0m\u001b[1;33m\u001b[0m\u001b[0m\n\u001b[1;32m-> 1750\u001b[1;33m             \u001b[0minfo\u001b[0m \u001b[1;33m=\u001b[0m \u001b[0mself\u001b[0m\u001b[1;33m.\u001b[0m\u001b[0mresource_info\u001b[0m\u001b[1;33m(\u001b[0m\u001b[0mresource_name\u001b[0m\u001b[1;33m,\u001b[0m \u001b[0mextended\u001b[0m\u001b[1;33m=\u001b[0m\u001b[1;32mTrue\u001b[0m\u001b[1;33m)\u001b[0m\u001b[1;33m\u001b[0m\u001b[1;33m\u001b[0m\u001b[0m\n\u001b[0m\u001b[0;32m   1751\u001b[0m \u001b[1;33m\u001b[0m\u001b[0m\n\u001b[0;32m   1752\u001b[0m             \u001b[1;32mtry\u001b[0m\u001b[1;33m:\u001b[0m\u001b[1;33m\u001b[0m\u001b[1;33m\u001b[0m\u001b[0m\n",
      "\u001b[1;32m~\\Anaconda3\\lib\\site-packages\\pyvisa\\highlevel.py\u001b[0m in \u001b[0;36mresource_info\u001b[1;34m(self, resource_name, extended)\u001b[0m\n\u001b[0;32m   1702\u001b[0m \u001b[1;33m\u001b[0m\u001b[0m\n\u001b[0;32m   1703\u001b[0m         \u001b[1;32mif\u001b[0m \u001b[0mextended\u001b[0m\u001b[1;33m:\u001b[0m\u001b[1;33m\u001b[0m\u001b[1;33m\u001b[0m\u001b[0m\n\u001b[1;32m-> 1704\u001b[1;33m             \u001b[0mret\u001b[0m\u001b[1;33m,\u001b[0m \u001b[0merr\u001b[0m \u001b[1;33m=\u001b[0m \u001b[0mself\u001b[0m\u001b[1;33m.\u001b[0m\u001b[0mvisalib\u001b[0m\u001b[1;33m.\u001b[0m\u001b[0mparse_resource_extended\u001b[0m\u001b[1;33m(\u001b[0m\u001b[0mself\u001b[0m\u001b[1;33m.\u001b[0m\u001b[0msession\u001b[0m\u001b[1;33m,\u001b[0m \u001b[0mresource_name\u001b[0m\u001b[1;33m)\u001b[0m\u001b[1;33m\u001b[0m\u001b[1;33m\u001b[0m\u001b[0m\n\u001b[0m\u001b[0;32m   1705\u001b[0m         \u001b[1;32melse\u001b[0m\u001b[1;33m:\u001b[0m\u001b[1;33m\u001b[0m\u001b[1;33m\u001b[0m\u001b[0m\n\u001b[0;32m   1706\u001b[0m             \u001b[0mret\u001b[0m\u001b[1;33m,\u001b[0m \u001b[0merr\u001b[0m \u001b[1;33m=\u001b[0m \u001b[0mself\u001b[0m\u001b[1;33m.\u001b[0m\u001b[0mvisalib\u001b[0m\u001b[1;33m.\u001b[0m\u001b[0mparse_resource\u001b[0m\u001b[1;33m(\u001b[0m\u001b[0mself\u001b[0m\u001b[1;33m.\u001b[0m\u001b[0msession\u001b[0m\u001b[1;33m,\u001b[0m \u001b[0mresource_name\u001b[0m\u001b[1;33m)\u001b[0m\u001b[1;33m\u001b[0m\u001b[1;33m\u001b[0m\u001b[0m\n",
      "\u001b[1;32m~\\Anaconda3\\lib\\site-packages\\pyvisa\\ctwrapper\\functions.py\u001b[0m in \u001b[0;36mparse_resource_extended\u001b[1;34m(library, session, resource_name)\u001b[0m\n\u001b[0;32m   1381\u001b[0m                                 \u001b[0mbyref\u001b[0m\u001b[1;33m(\u001b[0m\u001b[0minterface_board_number\u001b[0m\u001b[1;33m)\u001b[0m\u001b[1;33m,\u001b[0m \u001b[0mresource_class\u001b[0m\u001b[1;33m,\u001b[0m\u001b[1;33m\u001b[0m\u001b[1;33m\u001b[0m\u001b[0m\n\u001b[0;32m   1382\u001b[0m                                 \u001b[0munaliased_expanded_resource_name\u001b[0m\u001b[1;33m,\u001b[0m\u001b[1;33m\u001b[0m\u001b[1;33m\u001b[0m\u001b[0m\n\u001b[1;32m-> 1383\u001b[1;33m                                 alias_if_exists)\n\u001b[0m\u001b[0;32m   1384\u001b[0m \u001b[1;33m\u001b[0m\u001b[0m\n\u001b[0;32m   1385\u001b[0m     res = [buffer_to_text(val)\n",
      "\u001b[1;32m~\\Anaconda3\\lib\\site-packages\\pyvisa\\ctwrapper\\highlevel.py\u001b[0m in \u001b[0;36m_return_handler\u001b[1;34m(self, ret_value, func, arguments)\u001b[0m\n\u001b[0;32m    191\u001b[0m \u001b[1;33m\u001b[0m\u001b[0m\n\u001b[0;32m    192\u001b[0m         \u001b[1;32mif\u001b[0m \u001b[0mret_value\u001b[0m \u001b[1;33m<\u001b[0m \u001b[1;36m0\u001b[0m\u001b[1;33m:\u001b[0m\u001b[1;33m\u001b[0m\u001b[1;33m\u001b[0m\u001b[0m\n\u001b[1;32m--> 193\u001b[1;33m             \u001b[1;32mraise\u001b[0m \u001b[0merrors\u001b[0m\u001b[1;33m.\u001b[0m\u001b[0mVisaIOError\u001b[0m\u001b[1;33m(\u001b[0m\u001b[0mret_value\u001b[0m\u001b[1;33m)\u001b[0m\u001b[1;33m\u001b[0m\u001b[1;33m\u001b[0m\u001b[0m\n\u001b[0m\u001b[0;32m    194\u001b[0m \u001b[1;33m\u001b[0m\u001b[0m\n\u001b[0;32m    195\u001b[0m         \u001b[1;32mif\u001b[0m \u001b[0mret_value\u001b[0m \u001b[1;32min\u001b[0m \u001b[0mself\u001b[0m\u001b[1;33m.\u001b[0m\u001b[0missue_warning_on\u001b[0m\u001b[1;33m:\u001b[0m\u001b[1;33m\u001b[0m\u001b[1;33m\u001b[0m\u001b[0m\n",
      "\u001b[1;31mVisaIOError\u001b[0m: VI_ERROR_INTF_NUM_NCONFIG (-1073807195): The interface type is valid but the specified interface number is not configured."
     ]
    }
   ],
   "source": [
    "Keithley236_GPIB_Addr = 25  #Keithley 236\n",
    "SR830_GPIB_Addr = 2\n",
    "#keithley = rm.open_resource(f'GPIB0::{Keithley236_GPIB_Addr}::INSTR')\n",
    "K236 = my_K236.MY_KEITHLEY236(Keithley236_GPIB_Addr, SM = 'SVMI', compliance=1e-3)\n",
    "srs = my_SR830.MY_SR830(SR830_GPIB_Addr)"
   ]
  },
  {
   "cell_type": "code",
   "execution_count": 10,
   "metadata": {},
   "outputs": [
    {
     "name": "stdout",
     "output_type": "stream",
     "text": [
      "Measured is current, value is 9.926000e-05 A.\n"
     ]
    }
   ],
   "source": [
    "#K236 = my_K236.KEITHLEY236(keithley, SM = 'SVMI', compliance=1e-3)\n",
    "K236.INITIALIZE(K236.SM, K236.compliance, K236.range_m, init_value = 1.0)\n",
    "I = K236.READ_OUT(mode='M', print_out=True)"
   ]
  },
  {
   "cell_type": "code",
   "execution_count": 11,
   "metadata": {},
   "outputs": [],
   "source": [
    "srs.input_config = 'A - B'\n",
    "srs.input_grounding = 'Float'\n",
    "srs.frequency = 87.0 # change the lock-in frequency\n",
    "srs.time_constant = 1e-1 # change the lock-in time constant\n",
    "srs.sensitivity = 1e-1 # change the lock-in sensitivity\n",
    "srs.sine_voltage = 1.0\n",
    "srs.channel1 = 'X'\n",
    "srs.channel2 = 'Theta'\n",
    "srs.auto_phase() # auto-phase\n",
    "srs.SENSITIVITY_AUTO(1.0)"
   ]
  },
  {
   "cell_type": "code",
   "execution_count": 12,
   "metadata": {},
   "outputs": [],
   "source": [
    "V_g = np.linspace(0, 4, 11)\n",
    "V_sd = np.logspace(-1.5, 0, num=5, base=10)"
   ]
  },
  {
   "cell_type": "code",
   "execution_count": 13,
   "metadata": {},
   "outputs": [
    {
     "name": "stdout",
     "output_type": "stream",
     "text": [
      "V_SD = 0.032000 .\n",
      "V_G = 0.000000\tV_measure = 0.029034\tV_theoretical =  0.028748 .\n",
      "V_G = 0.400000\tV_measure = 0.029034\tV_theoretical =  0.028748 .\n",
      "V_G = 0.800000\tV_measure = 0.029034\tV_theoretical =  0.028748 .\n",
      "V_G = 1.200000\tV_measure = 0.029034\tV_theoretical =  0.028748 .\n",
      "V_G = 1.600000\tV_measure = 0.029034\tV_theoretical =  0.028748 .\n",
      "V_G = 2.000000\tV_measure = 0.029034\tV_theoretical =  0.028748 .\n",
      "V_G = 2.400000\tV_measure = 0.029034\tV_theoretical =  0.028748 .\n",
      "V_G = 2.800000\tV_measure = 0.029034\tV_theoretical =  0.028748 .\n",
      "V_G = 3.200000\tV_measure = 0.029034\tV_theoretical =  0.028748 .\n",
      "V_G = 3.600000\tV_measure = 0.029034\tV_theoretical =  0.028748 .\n",
      "V_G = 4.000000\tV_measure = 0.029034\tV_theoretical =  0.028748 .\n",
      "V_SD = 0.074000 .\n",
      "V_G = 0.000000\tV_measure = 0.067055\tV_theoretical =  0.068172 .\n",
      "V_G = 0.400000\tV_measure = 0.067120\tV_theoretical =  0.068172 .\n",
      "V_G = 0.800000\tV_measure = 0.067120\tV_theoretical =  0.068172 .\n",
      "V_G = 1.200000\tV_measure = 0.067124\tV_theoretical =  0.068172 .\n",
      "V_G = 1.600000\tV_measure = 0.067124\tV_theoretical =  0.068172 .\n",
      "V_G = 2.000000\tV_measure = 0.067124\tV_theoretical =  0.068172 .\n",
      "V_G = 2.400000\tV_measure = 0.067124\tV_theoretical =  0.068172 .\n",
      "V_G = 2.800000\tV_measure = 0.067124\tV_theoretical =  0.068172 .\n",
      "V_G = 3.200000\tV_measure = 0.067124\tV_theoretical =  0.068172 .\n",
      "V_G = 3.600000\tV_measure = 0.067120\tV_theoretical =  0.068172 .\n",
      "V_G = 4.000000\tV_measure = 0.067120\tV_theoretical =  0.068172 .\n",
      "V_SD = 0.178000 .\n",
      "V_G = 0.000000\tV_measure = 0.161233\tV_theoretical =  0.161662 .\n",
      "V_G = 0.400000\tV_measure = 0.161386\tV_theoretical =  0.161662 .\n",
      "V_G = 0.800000\tV_measure = 0.161386\tV_theoretical =  0.161662 .\n",
      "V_G = 1.200000\tV_measure = 0.161378\tV_theoretical =  0.161662 .\n",
      "V_G = 1.600000\tV_measure = 0.161386\tV_theoretical =  0.161662 .\n",
      "V_G = 2.000000\tV_measure = 0.161386\tV_theoretical =  0.161662 .\n",
      "V_G = 2.400000\tV_measure = 0.161386\tV_theoretical =  0.161662 .\n",
      "V_G = 2.800000\tV_measure = 0.161386\tV_theoretical =  0.161662 .\n",
      "V_G = 3.200000\tV_measure = 0.161386\tV_theoretical =  0.161662 .\n",
      "V_G = 3.600000\tV_measure = 0.161378\tV_theoretical =  0.161662 .\n",
      "V_G = 4.000000\tV_measure = 0.161386\tV_theoretical =  0.161662 .\n",
      "V_SD = 0.422000 .\n",
      "V_G = 0.000000\tV_measure = 0.382418\tV_theoretical =  0.383360 .\n",
      "V_G = 0.400000\tV_measure = 0.382540\tV_theoretical =  0.383360 .\n",
      "V_G = 0.800000\tV_measure = 0.382540\tV_theoretical =  0.383360 .\n",
      "V_G = 1.200000\tV_measure = 0.382540\tV_theoretical =  0.383360 .\n",
      "V_G = 1.600000\tV_measure = 0.382540\tV_theoretical =  0.383360 .\n",
      "V_G = 2.000000\tV_measure = 0.382540\tV_theoretical =  0.383360 .\n",
      "V_G = 2.400000\tV_measure = 0.382540\tV_theoretical =  0.383360 .\n",
      "V_G = 2.800000\tV_measure = 0.382540\tV_theoretical =  0.383360 .\n",
      "V_G = 3.200000\tV_measure = 0.382509\tV_theoretical =  0.383360 .\n",
      "V_G = 3.600000\tV_measure = 0.382509\tV_theoretical =  0.383360 .\n",
      "V_G = 4.000000\tV_measure = 0.382540\tV_theoretical =  0.383360 .\n",
      "V_SD = 1.000000 .\n",
      "V_G = 0.000000\tV_measure = 0.905643\tV_theoretical =  0.909091 .\n",
      "V_G = 0.400000\tV_measure = 0.905888\tV_theoretical =  0.909091 .\n",
      "V_G = 0.800000\tV_measure = 0.905949\tV_theoretical =  0.909091 .\n",
      "V_G = 1.200000\tV_measure = 0.905949\tV_theoretical =  0.909091 .\n",
      "V_G = 1.600000\tV_measure = 0.905949\tV_theoretical =  0.909091 .\n",
      "V_G = 2.000000\tV_measure = 0.905888\tV_theoretical =  0.909091 .\n",
      "V_G = 2.400000\tV_measure = 0.905888\tV_theoretical =  0.909091 .\n",
      "V_G = 2.800000\tV_measure = 0.905888\tV_theoretical =  0.909091 .\n",
      "V_G = 3.200000\tV_measure = 0.905888\tV_theoretical =  0.909091 .\n",
      "V_G = 3.600000\tV_measure = 0.905949\tV_theoretical =  0.909091 .\n",
      "V_G = 4.000000\tV_measure = 0.905949\tV_theoretical =  0.909091 .\n"
     ]
    }
   ],
   "source": [
    "srs.sine_voltage = 0.0\n",
    "srs.sensitivity = 1e-3\n",
    "delay_time_GATE = 0.1\n",
    "delay_time_SD = 1.0\n",
    "V_measure_DIFFVG = []\n",
    "\n",
    "for V_SD in V_sd:\n",
    "    srs.GOTO(V_SD, step = 1e-2, delay_time = 0.5)\n",
    "    #srs.sine_voltage = V_SD\n",
    "    #time.sleep(delay_time_SD)\n",
    "    #sens_pass = srs.is_out_of_range()\n",
    "    print('V_SD = %.6f .' %srs.sine_voltage)\n",
    "#    SENSITIVITY_AUTO(srs, step_ratio=2, bottom_ratio=0.1, delay_time=1)\n",
    "#     while sens_pass:\n",
    "#         SENSITIVITY_AUTO(srs, ratio=2, delay_time= 1)\n",
    "#         sens_pass = srs.is_out_of_range()\n",
    "#         print(sens_pass)\n",
    "    V_measure = np.zeros_like(V_g)\n",
    "    for index, V_GATE in enumerate(V_g):\n",
    "        K236.GOTO(V_GATE, step = 0.05, delay_time = 0.05)\n",
    "        time.sleep(delay_time_GATE)\n",
    "        V_measure[index] = srs.magnitude\n",
    "        print('V_G = %.6f\\tV_measure = %.6f\\tV_theoretical =  %.6f .' %(K236.READ_OUT('S'), V_measure[index], V_SD*10/11.0) )\n",
    "    K236.GOTO(0.0, step = 0.5, delay_time = 0.05)\n",
    "    V_measure_DIFFVG.append(np.copy(V_measure))\n",
    "    \n",
    "srs.GOTO(0.0, step = 0.5, delay_time=0.01)\n",
    "K236.OPERATE_OFF()"
   ]
  },
  {
   "cell_type": "code",
   "execution_count": null,
   "metadata": {},
   "outputs": [],
   "source": []
  }
 ],
 "metadata": {
  "kernelspec": {
   "display_name": "Python 3",
   "language": "python",
   "name": "python3"
  },
  "language_info": {
   "codemirror_mode": {
    "name": "ipython",
    "version": 3
   },
   "file_extension": ".py",
   "mimetype": "text/x-python",
   "name": "python",
   "nbconvert_exporter": "python",
   "pygments_lexer": "ipython3",
   "version": "3.7.3"
  }
 },
 "nbformat": 4,
 "nbformat_minor": 2
}
